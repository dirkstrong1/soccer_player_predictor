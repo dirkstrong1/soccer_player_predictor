{
 "cells": [
  {
   "cell_type": "code",
   "execution_count": 46,
   "metadata": {},
   "outputs": [
    {
     "name": "stdout",
     "output_type": "stream",
     "text": [
      "                              volleys  dribbling  acceleration  agility  \\\n",
      "player_name                                                               \n",
      "Lionel Messi                       86         97            92       91   \n",
      "C. Ronaldo dos Santos Aveiro       87         90            89       87   \n",
      "Kevin De Bruyne                    82         88            79       79   \n",
      "Luis Suárez                        88         88            87       82   \n",
      "Sergio Ramos García                67         73            77       79   \n",
      "\n",
      "                              reactions  balance  jumping  stamina  strength  \\\n",
      "player_name                                                                    \n",
      "Lionel Messi                         95       95       69       73        59   \n",
      "C. Ronaldo dos Santos Aveiro         96       70       95       88        79   \n",
      "Kevin De Bruyne                      92       77       63       91        75   \n",
      "Luis Suárez                          94       83       69       91        83   \n",
      "Sergio Ramos García                  86       66       94       85        83   \n",
      "\n",
      "                              aggression  interceptions  positioning  vision  \\\n",
      "player_name                                                                    \n",
      "Lionel Messi                          48             22           95      95   \n",
      "C. Ronaldo dos Santos Aveiro          63             29           95      82   \n",
      "Kevin De Bruyne                       76             61           88      95   \n",
      "Luis Suárez                           88             41           93      85   \n",
      "Sergio Ramos García                   85             90           52      63   \n",
      "\n",
      "                              penalties  composure  marking  \n",
      "player_name                                                  \n",
      "Lionel Messi                         75         97       34  \n",
      "C. Ronaldo dos Santos Aveiro         85         95       28  \n",
      "Kevin De Bruyne                      79         89       68  \n",
      "Luis Suárez                          85         85       63  \n",
      "Sergio Ramos García                  69         81       89  \n",
      "[[ 2.39134725  1.87715538  1.81145112 ...  1.6698235   3.34219873\n",
      "  -0.70649289]\n",
      " [ 2.4473599   1.55754486  1.61185821 ...  2.30394516  3.16435118\n",
      "  -1.0107463 ]\n",
      " [ 2.16729669  1.46622757  0.94654853 ...  1.92347216  2.63080852\n",
      "   1.01760981]\n",
      " ...\n",
      " [-0.40928481 -0.72538737 -1.58162825 ... -0.35936581 -1.54860898\n",
      "  -1.31499972]\n",
      " [-1.02542386 -0.40577686 -0.38407083 ... -0.7398388  -2.08215164\n",
      "  -0.14869496]\n",
      " [-0.57732273 -0.4514355  -0.05141599 ... -0.48619014 -1.99322787\n",
      "  -0.70649289]]\n"
     ]
    },
    {
     "name": "stderr",
     "output_type": "stream",
     "text": [
      "//anaconda3/envs/fifa-env/lib/python3.7/site-packages/IPython/core/interactiveshell.py:3058: DtypeWarning: Columns (67) have mixed types. Specify dtype option on import or set low_memory=False.\n",
      "  interactivity=interactivity, compiler=compiler, result=result)\n"
     ]
    },
    {
     "data": {
      "text/plain": [
       "PCA(copy=True, iterated_power='auto', n_components=2, random_state=10,\n",
       "    svd_solver='auto', tol=0.0, whiten=False)"
      ]
     },
     "execution_count": 46,
     "metadata": {},
     "output_type": "execute_result"
    }
   ],
   "source": [
    "import pandas as pd\n",
    "import sys\n",
    "from IPython.core import ultratb\n",
    "from sklearn.decomposition import PCA\n",
    "from sklearn.preprocessing import StandardScaler\n",
    "import numpy as np\n",
    "\n",
    "# ensure error messages are color coded using IPython color schema ----\n",
    "sys.excepthook = ultratb.FormattedTB(mode=\"Verbose\",\n",
    "                                     color_scheme=\"Linux\",\n",
    "                                     call_pdb=False)\n",
    "\n",
    "# load necessary data ----\n",
    "fifa_df = pd.read_csv(\"write_data/all_players.csv\").drop(\"Unnamed: 0\", axis=1)\n",
    "\n",
    "# store relevant columns ----\n",
    "relevant_columns = ['volleys', 'dribbling', 'curve',\n",
    "                    'fkaccuracy', 'longpassing', 'ballcontrol',\n",
    "                    'acceleration', 'sprintspeed', 'agility',\n",
    "                    'reactions', 'balance', 'shotpower',\n",
    "                    'jumping', 'stamina', 'strength',\n",
    "                    'longshots', 'aggression', 'interceptions',\n",
    "                    'positioning', 'vision', 'penalties',\n",
    "                    'composure', 'marking', 'standingtackle',\n",
    "                    'slidingtackle', 'gkdiving', 'gkhandling',\n",
    "                    'gkkicking', 'gkpositioning', 'gkreflexes']\n",
    "\n",
    "# clean up data frame to only contain continuous variables ----\n",
    "fifa_df.columns = [name.lower().replace(\" \", \"_\")\n",
    "                   for name in fifa_df.columns]\n",
    "\n",
    "fifa_df = (fifa_df\n",
    "           .set_index(\"player_name\")\n",
    "           .filter(relevant_columns)\n",
    "           .dropna())\n",
    "\n",
    "print(fifa_df.head())\n",
    "\n",
    "# scale it ----\n",
    "fifa_scaled_df = (StandardScaler()\n",
    "                  .fit(fifa_df)\n",
    "                  .transform(fifa_df))\n",
    "\n",
    "print(fifa_scaled_df)\n",
    "\n",
    "# instatiate PCA object ----\n",
    "pca = PCA(n_components=2, random_state=10)\n",
    "\n",
    "# fit fifa_df onto pca ----\n",
    "pca.fit(fifa_scaled_df)\n"
   ]
  },
  {
   "cell_type": "code",
   "execution_count": 47,
   "metadata": {},
   "outputs": [
    {
     "data": {
      "text/plain": [
       "array([[-0.29631008, -0.34170037, -0.26481403, -0.28040284, -0.19095987,\n",
       "        -0.24633445, -0.11908536, -0.29498207, -0.03261581, -0.22710584,\n",
       "        -0.17181444, -0.32060497, -0.27709773, -0.28635554, -0.26791707,\n",
       "        -0.18120732],\n",
       "       [-0.16168626, -0.04988822, -0.21231598, -0.24290601,  0.15910535,\n",
       "        -0.24855616,  0.18238552,  0.14082615,  0.42346465,  0.36937443,\n",
       "         0.42590518, -0.15143829, -0.12282207, -0.1315252 ,  0.12739544,\n",
       "         0.39798726]])"
      ]
     },
     "execution_count": 47,
     "metadata": {},
     "output_type": "execute_result"
    }
   ],
   "source": [
    "pca.components_"
   ]
  },
  {
   "cell_type": "code",
   "execution_count": 48,
   "metadata": {},
   "outputs": [
    {
     "data": {
      "text/plain": [
       "array([ 2.39134725,  1.87715538,  1.81145112,  1.8114871 ,  3.63647645,\n",
       "        2.16745969,  0.26890088,  0.56499377, -0.58768917, -0.49967924,\n",
       "       -1.22615468,  2.26918662,  2.88583259,  1.6698235 ,  3.34219873,\n",
       "       -0.70649289])"
      ]
     },
     "execution_count": 48,
     "metadata": {},
     "output_type": "execute_result"
    }
   ],
   "source": [
    "fifa_scaled_df[0]"
   ]
  },
  {
   "cell_type": "code",
   "execution_count": 49,
   "metadata": {},
   "outputs": [
    {
     "data": {
      "text/plain": [
       "(15397, 16)"
      ]
     },
     "execution_count": 49,
     "metadata": {},
     "output_type": "execute_result"
    }
   ],
   "source": [
    "fifa_scaled_df.shape"
   ]
  },
  {
   "cell_type": "code",
   "execution_count": 51,
   "metadata": {},
   "outputs": [
    {
     "data": {
      "text/plain": [
       "array([-6.19409971, -6.22944653, -6.24189154, ...,  4.15953485,\n",
       "        3.16518076,  2.0487057 ])"
      ]
     },
     "execution_count": 51,
     "metadata": {},
     "output_type": "execute_result"
    }
   ],
   "source": [
    "np.matmul(fifa_scaled_df, pca.components_[0])"
   ]
  },
  {
   "cell_type": "code",
   "execution_count": 52,
   "metadata": {},
   "outputs": [],
   "source": [
    "pc_df = pd.DataFrame({'pc1': np.matmul(fifa_scaled_df, pca.components_[0]),\n",
    "                     'pc2': np.matmul(fifa_scaled_df, pca.components_[1])},\n",
    "                     index=fifa_df.index)\n",
    "\n"
   ]
  },
  {
   "cell_type": "code",
   "execution_count": 53,
   "metadata": {},
   "outputs": [
    {
     "data": {
      "text/html": [
       "<div>\n",
       "<style scoped>\n",
       "    .dataframe tbody tr th:only-of-type {\n",
       "        vertical-align: middle;\n",
       "    }\n",
       "\n",
       "    .dataframe tbody tr th {\n",
       "        vertical-align: top;\n",
       "    }\n",
       "\n",
       "    .dataframe thead th {\n",
       "        text-align: right;\n",
       "    }\n",
       "</style>\n",
       "<table border=\"1\" class=\"dataframe\">\n",
       "  <thead>\n",
       "    <tr style=\"text-align: right;\">\n",
       "      <th></th>\n",
       "      <th>pc1</th>\n",
       "      <th>pc2</th>\n",
       "    </tr>\n",
       "    <tr>\n",
       "      <th>player_name</th>\n",
       "      <th></th>\n",
       "      <th></th>\n",
       "    </tr>\n",
       "  </thead>\n",
       "  <tbody>\n",
       "    <tr>\n",
       "      <td>Lionel Messi</td>\n",
       "      <td>-6.194100</td>\n",
       "      <td>-2.865224</td>\n",
       "    </tr>\n",
       "    <tr>\n",
       "      <td>C. Ronaldo dos Santos Aveiro</td>\n",
       "      <td>-6.229447</td>\n",
       "      <td>-0.737926</td>\n",
       "    </tr>\n",
       "    <tr>\n",
       "      <td>Kevin De Bruyne</td>\n",
       "      <td>-6.241892</td>\n",
       "      <td>0.461547</td>\n",
       "    </tr>\n",
       "    <tr>\n",
       "      <td>Luis Suárez</td>\n",
       "      <td>-6.610756</td>\n",
       "      <td>0.237446</td>\n",
       "    </tr>\n",
       "    <tr>\n",
       "      <td>Sergio Ramos García</td>\n",
       "      <td>-4.590720</td>\n",
       "      <td>3.192977</td>\n",
       "    </tr>\n",
       "    <tr>\n",
       "      <td>...</td>\n",
       "      <td>...</td>\n",
       "      <td>...</td>\n",
       "    </tr>\n",
       "    <tr>\n",
       "      <td>Shandon Baptiste</td>\n",
       "      <td>2.631306</td>\n",
       "      <td>-0.738212</td>\n",
       "    </tr>\n",
       "    <tr>\n",
       "      <td>David Norman Jr.</td>\n",
       "      <td>2.299992</td>\n",
       "      <td>-0.244658</td>\n",
       "    </tr>\n",
       "    <tr>\n",
       "      <td>Noah Christoffersson</td>\n",
       "      <td>4.159535</td>\n",
       "      <td>-1.076543</td>\n",
       "    </tr>\n",
       "    <tr>\n",
       "      <td>Kieron Olsen</td>\n",
       "      <td>3.165181</td>\n",
       "      <td>-0.950134</td>\n",
       "    </tr>\n",
       "    <tr>\n",
       "      <td>Lee Watkins</td>\n",
       "      <td>2.048706</td>\n",
       "      <td>-1.055082</td>\n",
       "    </tr>\n",
       "  </tbody>\n",
       "</table>\n",
       "<p>15397 rows × 2 columns</p>\n",
       "</div>"
      ],
      "text/plain": [
       "                                   pc1       pc2\n",
       "player_name                                     \n",
       "Lionel Messi                 -6.194100 -2.865224\n",
       "C. Ronaldo dos Santos Aveiro -6.229447 -0.737926\n",
       "Kevin De Bruyne              -6.241892  0.461547\n",
       "Luis Suárez                  -6.610756  0.237446\n",
       "Sergio Ramos García          -4.590720  3.192977\n",
       "...                                ...       ...\n",
       "Shandon Baptiste              2.631306 -0.738212\n",
       "David Norman Jr.              2.299992 -0.244658\n",
       "Noah Christoffersson          4.159535 -1.076543\n",
       "Kieron Olsen                  3.165181 -0.950134\n",
       "Lee Watkins                   2.048706 -1.055082\n",
       "\n",
       "[15397 rows x 2 columns]"
      ]
     },
     "execution_count": 53,
     "metadata": {},
     "output_type": "execute_result"
    }
   ],
   "source": [
    "pc_df"
   ]
  },
  {
   "cell_type": "code",
   "execution_count": 44,
   "metadata": {},
   "outputs": [],
   "source": [
    "pc_df.to_csv(\"write_data/pc3_all_players.csv\", index=True)"
   ]
  },
  {
   "cell_type": "code",
   "execution_count": 45,
   "metadata": {},
   "outputs": [
    {
     "data": {
      "text/plain": [
       "array([0.47101448, 0.1819183 , 0.09180653])"
      ]
     },
     "execution_count": 45,
     "metadata": {},
     "output_type": "execute_result"
    }
   ],
   "source": [
    "pca.explained_variance_ratio_"
   ]
  },
  {
   "cell_type": "code",
   "execution_count": null,
   "metadata": {},
   "outputs": [],
   "source": []
  }
 ],
 "metadata": {
  "kernelspec": {
   "display_name": "fifa-env",
   "language": "python",
   "name": "fifa-env"
  },
  "language_info": {
   "codemirror_mode": {
    "name": "ipython",
    "version": 3
   },
   "file_extension": ".py",
   "mimetype": "text/x-python",
   "name": "python",
   "nbconvert_exporter": "python",
   "pygments_lexer": "ipython3",
   "version": "3.7.4"
  }
 },
 "nbformat": 4,
 "nbformat_minor": 2
}
